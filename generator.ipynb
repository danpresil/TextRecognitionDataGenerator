{
 "cells": [
  {
   "cell_type": "code",
   "execution_count": 1,
   "id": "845a11d4-1c4c-4ff5-9d8e-f2b27bf8be66",
   "metadata": {},
   "outputs": [
    {
     "name": "stdout",
     "output_type": "stream",
     "text": [
      "Found existing installation: trdg 1.8.0\n",
      "Uninstalling trdg-1.8.0:\n",
      "  Successfully uninstalled trdg-1.8.0\n",
      "Note: you may need to restart the kernel to use updated packages.\n"
     ]
    }
   ],
   "source": [
    "pip uninstall trdg -y"
   ]
  },
  {
   "cell_type": "code",
   "execution_count": 2,
   "id": "e6a4603e-1616-4e4d-a1be-554e811463c3",
   "metadata": {},
   "outputs": [
    {
     "name": "stdout",
     "output_type": "stream",
     "text": [
      "Obtaining file:///mnt/g/ml_projects/ocr/TextRecognitionDataGenerator\n",
      "  Preparing metadata (setup.py) ... \u001b[?25ldone\n",
      "\u001b[?25hInstalling collected packages: trdg\n",
      "\u001b[33m  DEPRECATION: Legacy editable install of trdg==1.8.0 from file:///mnt/g/ml_projects/ocr/TextRecognitionDataGenerator (setup.py develop) is deprecated. pip 25.3 will enforce this behaviour change. A possible replacement is to add a pyproject.toml or enable --use-pep517, and use setuptools >= 64. If the resulting installation is not behaving as expected, try using --config-settings editable_mode=compat. Please consult the setuptools documentation for more information. Discussion can be found at https://github.com/pypa/pip/issues/11457\u001b[0m\u001b[33m\n",
      "\u001b[0m  Running setup.py develop for trdg\n",
      "Successfully installed trdg-1.8.0\n",
      "Note: you may need to restart the kernel to use updated packages.\n"
     ]
    }
   ],
   "source": [
    "pip install --no-deps -e ./"
   ]
  },
  {
   "cell_type": "code",
   "execution_count": null,
   "id": "deba50f1-caf4-4e90-ad94-4f695d463122",
   "metadata": {},
   "outputs": [],
   "source": [
    "# pip install diffimg arabic_reshaper python-bidi wikipedia"
   ]
  },
  {
   "cell_type": "code",
   "execution_count": 15,
   "id": "496db637-28fb-4484-8413-078013a33974",
   "metadata": {},
   "outputs": [],
   "source": [
    "import pandas as pd\n",
    "\n",
    "df = pd.read_csv(\"hf://datasets/HeNLP/HeDC4/HeDC4.csv\", nrows=20000)"
   ]
  },
  {
   "cell_type": "code",
   "execution_count": 19,
   "id": "7fe13e96-f0f1-4e6b-90fa-68368b022bfa",
   "metadata": {},
   "outputs": [],
   "source": [
    "import pandas as pd\n",
    "import re\n",
    "\n",
    "# Step 1: Remove Nikud\n",
    "def remove_nikud(text: str) -> str:\n",
    "    return re.sub(r'[\\u0591-\\u05C7]', '', text)\n",
    "\n",
    "# Step 2: Trim sentence without cutting words\n",
    "def trim_sentence(text: str, max_length: int = 250) -> str:\n",
    "    if len(text) <= max_length:\n",
    "        return text\n",
    "    \n",
    "    words = text.split()\n",
    "    trimmed = \"\"\n",
    "    for word in words:\n",
    "        if len(trimmed) + len(word) + (1 if trimmed else 0) > max_length:\n",
    "            break\n",
    "        trimmed += (\" \" if trimmed else \"\") + word\n",
    "    return trimmed\n",
    "\n",
    "# Example: Apply to DataFrame\n",
    "# Assume df already exists with column 'text'\n",
    "df[\"text_clean\"] = df[\"text\"].astype(str).apply(remove_nikud).apply(lambda x: trim_sentence(x, 500))\n"
   ]
  },
  {
   "cell_type": "code",
   "execution_count": 20,
   "id": "258060ae-4c6a-4fc9-a82a-72cd9da66e32",
   "metadata": {},
   "outputs": [
    {
     "data": {
      "text/plain": [
       "'הקבלת פנים הייתה חמה העיסוי היה בידי 2 מטפלות מיקצועיות כל הזמן דאגו שהכל בסדר נהננו מאוד מומלץ !! אתמול גם אנחנו הגענו בזמן והמתנו בפנים יותר רבע שעה עד שמטפלות התחילו לטפל בנו. המקום צפוף,לא מפותח ולא נקי כמו שצריך להיות מקום קשור לבריואת של אנשים,אין מקלחות ,דוש משולב בגיקוזי. מגבות, סדינים וחלוקים ישנים, מלאים בריח של שמן למסזי ! אם אתם יכולים לעצום עיניים לדברים האלה - לפחות תקבלו טיפול מעולה במסאזי. המקום נותן אוירה ביתית וחמימה הטיפולים הכי טובים שקיבלנו בחיים!! הבעלים איש נחמד מאוד,'"
      ]
     },
     "execution_count": 20,
     "metadata": {},
     "output_type": "execute_result"
    }
   ],
   "source": [
    "df[\"text_clean\"][1]"
   ]
  },
  {
   "cell_type": "code",
   "execution_count": 6,
   "id": "cb874da7-e769-4347-8977-9694a8ac7462",
   "metadata": {},
   "outputs": [
    {
     "data": {
      "text/plain": [
       "'האנרגיה בטבע מתפרצת כלפי חוץ ולמעלה, הכול ירוק פורח ונובט. זה הזמן לנקות רעלים בגוף ובכבד לקראת עונת הקיץ החמה; לכן באביב אוכלים פחות, אוכלים מזון קל לעיכול, המבושל בישול מהיר וקל להכנה – מזון המספק לנו אנרגיה יאנגית. 5. להימנע – מסוכרים לבנים, וממלח רב. מהפירות בננה, תפוזים ומלונים. ניתן להוסיף בבוקר דייסת קוואקר עם מעט דבש, במקום ארוחה של מש ואורז מאחר וקשה לאכול מש ואורז בבוקר. ביומיים הראשונים יש רעב וצורך למתוק, יותר עייפות, עצירות, לעיתים יותר שתן (חלק מהניקוי), טעם רע וריח בפה, לעיתים'"
      ]
     },
     "execution_count": 6,
     "metadata": {},
     "output_type": "execute_result"
    }
   ],
   "source": [
    "def trim_sentence(text: str, max_length: int) -> str:\n",
    "    \"\"\"\n",
    "    Trims a sentence to a maximum length without cutting words in the middle.\n",
    "    \n",
    "    Args:\n",
    "        text (str): The input sentence.\n",
    "        max_length (int): The maximum allowed character length.\n",
    "    \n",
    "    Returns:\n",
    "        str: The trimmed sentence.\n",
    "    \"\"\"\n",
    "    # If the sentence already fits, return it\n",
    "    if len(text) <= max_length:\n",
    "        return text\n",
    "    \n",
    "    # Split into words\n",
    "    words = text.split()\n",
    "    \n",
    "    trimmed = \"\"\n",
    "    for word in words:\n",
    "        # Check if adding this word would exceed limit\n",
    "        if len(trimmed) + len(word) + (1 if trimmed else 0) > max_length:\n",
    "            break\n",
    "        trimmed += (\" \" if trimmed else \"\") + word\n",
    "    \n",
    "    return trimmed\n",
    "trim_sentence(df['text'][0], 500)"
   ]
  },
  {
   "cell_type": "code",
   "execution_count": null,
   "id": "0f18551d-76ba-4447-8f31-da6bf02f91ca",
   "metadata": {},
   "outputs": [],
   "source": []
  },
  {
   "cell_type": "code",
   "execution_count": 9,
   "id": "778cbc94-07dc-4913-a3df-0d257492af37",
   "metadata": {},
   "outputs": [],
   "source": [
    "# len(df['text'][0])"
   ]
  },
  {
   "cell_type": "code",
   "execution_count": 13,
   "id": "ed6b2b22-6c1d-47be-b079-3e19760c5d83",
   "metadata": {},
   "outputs": [
    {
     "name": "stderr",
     "output_type": "stream",
     "text": [
      "2025-08-23 15:15:14.205071: E external/local_xla/xla/stream_executor/cuda/cuda_fft.cc:467] Unable to register cuFFT factory: Attempting to register factory for plugin cuFFT when one has already been registered\n",
      "WARNING: All log messages before absl::InitializeLog() is called are written to STDERR\n",
      "E0000 00:00:1755951314.358076     585 cuda_dnn.cc:8579] Unable to register cuDNN factory: Attempting to register factory for plugin cuDNN when one has already been registered\n",
      "E0000 00:00:1755951314.401807     585 cuda_blas.cc:1407] Unable to register cuBLAS factory: Attempting to register factory for plugin cuBLAS when one has already been registered\n",
      "W0000 00:00:1755951314.737011     585 computation_placer.cc:177] computation placer already registered. Please check linkage and avoid linking the same target more than once.\n",
      "W0000 00:00:1755951314.737040     585 computation_placer.cc:177] computation placer already registered. Please check linkage and avoid linking the same target more than once.\n",
      "W0000 00:00:1755951314.737042     585 computation_placer.cc:177] computation placer already registered. Please check linkage and avoid linking the same target more than once.\n",
      "W0000 00:00:1755951314.737043     585 computation_placer.cc:177] computation placer already registered. Please check linkage and avoid linking the same target more than once.\n",
      "2025-08-23 15:15:14.772279: I tensorflow/core/platform/cpu_feature_guard.cc:210] This TensorFlow binary is optimized to use available CPU instructions in performance-critical operations.\n",
      "To enable the following instructions: AVX2 FMA, in other operations, rebuild TensorFlow with the appropriate compiler flags.\n"
     ]
    },
    {
     "name": "stdout",
     "output_type": "stream",
     "text": [
      "Missing modules for handwritten text generation.\n"
     ]
    }
   ],
   "source": [
    "import os\n",
    "import sys\n",
    "import unittest\n",
    "import subprocess\n",
    "import hashlib\n",
    "import string\n",
    "\n",
    "from diffimg import diff\n",
    "\n",
    "from trdg.data_generator import FakeTextDataGenerator\n",
    "from trdg import background_generator, computer_text_generator\n",
    "from trdg.generators import (\n",
    "    GeneratorFromDict,\n",
    "    GeneratorFromRandom,\n",
    "    GeneratorFromStrings,\n",
    "    GeneratorFromWikipedia,\n",
    ")\n",
    "from trdg.string_generator import (\n",
    "    create_strings_from_file,\n",
    "    create_strings_from_dict,\n",
    "    create_strings_from_wikipedia,\n",
    "    create_strings_randomly,\n",
    ")\n",
    "from matplotlib import pyplot as plt"
   ]
  },
  {
   "cell_type": "code",
   "execution_count": 8,
   "id": "febf0787-bf0a-4c42-afcb-85beadc99664",
   "metadata": {},
   "outputs": [
    {
     "data": {
      "text/plain": [
       "\u001b[31mInit signature:\u001b[39m\n",
       "GeneratorFromStrings(\n",
       "    strings: List[str],\n",
       "    count: int = -\u001b[32m1\u001b[39m,\n",
       "    fonts: List[str] = [],\n",
       "    language: str = \u001b[33m'en'\u001b[39m,\n",
       "    size: int = \u001b[32m32\u001b[39m,\n",
       "    skewing_angle: int = \u001b[32m0\u001b[39m,\n",
       "    random_skew: bool = \u001b[38;5;28;01mFalse\u001b[39;00m,\n",
       "    blur: int = \u001b[32m0\u001b[39m,\n",
       "    random_blur: bool = \u001b[38;5;28;01mFalse\u001b[39;00m,\n",
       "    background_type: int = \u001b[32m0\u001b[39m,\n",
       "    distorsion_type: int = \u001b[32m0\u001b[39m,\n",
       "    distorsion_orientation: int = \u001b[32m0\u001b[39m,\n",
       "    is_handwritten: bool = \u001b[38;5;28;01mFalse\u001b[39;00m,\n",
       "    width: int = -\u001b[32m1\u001b[39m,\n",
       "    alignment: int = \u001b[32m1\u001b[39m,\n",
       "    text_color: str = \u001b[33m'#282828'\u001b[39m,\n",
       "    orientation: int = \u001b[32m0\u001b[39m,\n",
       "    space_width: float = \u001b[32m1.0\u001b[39m,\n",
       "    character_spacing: int = \u001b[32m0\u001b[39m,\n",
       "    margins: Tuple[int, int, int, int] = (\u001b[32m5\u001b[39m, \u001b[32m5\u001b[39m, \u001b[32m5\u001b[39m, \u001b[32m5\u001b[39m),\n",
       "    fit: bool = \u001b[38;5;28;01mFalse\u001b[39;00m,\n",
       "    output_mask: bool = \u001b[38;5;28;01mFalse\u001b[39;00m,\n",
       "    word_split: bool = \u001b[38;5;28;01mFalse\u001b[39;00m,\n",
       "    image_dir: str = \u001b[33m'/mnt/g/ml_projects/ocr/TextRecognitionDataGenerator/trdg/generators/images'\u001b[39m,\n",
       "    stroke_width: int = \u001b[32m0\u001b[39m,\n",
       "    stroke_fill: str = \u001b[33m'#282828'\u001b[39m,\n",
       "    image_mode: str = \u001b[33m'RGB'\u001b[39m,\n",
       "    output_bboxes: int = \u001b[32m0\u001b[39m,\n",
       "    rtl: bool = \u001b[38;5;28;01mFalse\u001b[39;00m,\n",
       "    max_line_length: int = \u001b[32m0\u001b[39m,\n",
       ")\n",
       "\u001b[31mDocstring:\u001b[39m      Generator that uses a given list of strings\n",
       "\u001b[31mFile:\u001b[39m           /mnt/g/ml_projects/ocr/TextRecognitionDataGenerator/trdg/generators/from_strings.py\n",
       "\u001b[31mType:\u001b[39m           type\n",
       "\u001b[31mSubclasses:\u001b[39m     "
      ]
     },
     "metadata": {},
     "output_type": "display_data"
    }
   ],
   "source": [
    "GeneratorFromStrings?"
   ]
  },
  {
   "cell_type": "code",
   "execution_count": 10,
   "id": "65e1a1c6-7824-43d1-98cb-74a82d08483c",
   "metadata": {
    "scrolled": true
   },
   "outputs": [
    {
     "data": {
      "text/plain": [
       "'מָתֵמָטִיקָה היא תחום הדעת שעוסק במושגים כגון כמות, מבנה, מרחב ושינוי.\\n'"
      ]
     },
     "execution_count": 10,
     "metadata": {},
     "output_type": "execute_result"
    }
   ],
   "source": [
    "with open ('../text_data/wikipedia.raw') as f:\n",
    "    row_data = f.readline()\n",
    "row_data[0:100]"
   ]
  },
  {
   "cell_type": "code",
   "execution_count": 14,
   "id": "bf8717d8-7de1-47dc-8ef1-5d4f912fe01a",
   "metadata": {},
   "outputs": [
    {
     "data": {
      "text/plain": [
       "'מתמטיקה היא תחום הדעת שעוסק במושגים כגון כמות, מבנה, מרחב ושינוי.\\n'"
      ]
     },
     "execution_count": 14,
     "metadata": {},
     "output_type": "execute_result"
    }
   ],
   "source": [
    "import re\n",
    "\n",
    "def remove_nikud(text: str) -> str:\n",
    "    \"\"\"\n",
    "    Removes Hebrew Nikud (vowel marks and cantillation marks) from a string.\n",
    "    \n",
    "    Args:\n",
    "        text (str): The Hebrew string with or without Nikud.\n",
    "    \n",
    "    Returns:\n",
    "        str: The string without Nikud.\n",
    "    \"\"\"\n",
    "    # Hebrew diacritics are in the range U+0591–U+05C7\n",
    "    return re.sub(r'[\\u0591-\\u05C7]', '', text)\n",
    "remove_nikud(row_data[0:100])"
   ]
  },
  {
   "cell_type": "code",
   "execution_count": 21,
   "id": "33f54ed2-7aae-424b-921a-ee43df2b044b",
   "metadata": {},
   "outputs": [
    {
     "ename": "NameError",
     "evalue": "name 'glob' is not defined",
     "output_type": "error",
     "traceback": [
      "\u001b[31m---------------------------------------------------------------------------\u001b[39m",
      "\u001b[31mNameError\u001b[39m                                 Traceback (most recent call last)",
      "\u001b[36mCell\u001b[39m\u001b[36m \u001b[39m\u001b[32mIn[21]\u001b[39m\u001b[32m, line 1\u001b[39m\n\u001b[32m----> \u001b[39m\u001b[32m1\u001b[39m glob.glob(\u001b[33m'\u001b[39m\u001b[33m../fonts/*/*.*\u001b[39m\u001b[33m'\u001b[39m)\n",
      "\u001b[31mNameError\u001b[39m: name 'glob' is not defined"
     ]
    }
   ],
   "source": []
  },
  {
   "cell_type": "code",
   "execution_count": null,
   "id": "94a789c5-16bc-4422-a1be-e89781dc6275",
   "metadata": {},
   "outputs": [
    {
     "name": "stderr",
     "output_type": "stream",
     "text": [
      "14it [01:05,  4.96s/it]"
     ]
    }
   ],
   "source": [
    "# V choose 20k\n",
    "# V remove nikud\n",
    "# V trim to 500\n",
    "# T add rotation and blur\n",
    "#   add background\n",
    "# V use all fonts\n",
    "#   consider image sizes\n",
    "\n",
    "import glob\n",
    "import tqdm\n",
    "from concurrent.futures import ThreadPoolExecutor\n",
    "\n",
    "def save_image_and_label(img, label, filename_base):\n",
    "    img.save(f\"{filename_base}.jpg\")\n",
    "    with open(f\"{filename_base}.txt\", \"w\", encoding=\"utf-8\") as f:\n",
    "        f.write(label)\n",
    "        \n",
    "generator = GeneratorFromStrings(\n",
    "    list(df[\"text_clean\"])[0:1000], \n",
    "    count=1000, \n",
    "    size=512,\n",
    "    skewing_angle=3,\n",
    "    random_skew=True,\n",
    "    blur=1,\n",
    "    random_blur=True,\n",
    "    language=\"he\", \n",
    "    rtl=True, \n",
    "    fonts=glob.glob('../fonts/*/*.*'),\n",
    "    alignment=2,\n",
    "    max_line_length=75,\n",
    ")\n",
    "# img, lbl = next(generator)\n",
    "# print(lbl)\n",
    "# plt.figure(figsize=(16,16))\n",
    "# plt.imshow(img)\n",
    "\n",
    "row_idx = 0 \n",
    "# counter = 0\n",
    "executor = ThreadPoolExecutor(max_workers=10)\n",
    "\n",
    "for img, lbl in tqdm.tqdm(generator):\n",
    "    if img:\n",
    "\n",
    "        filename_base = f\"./datasets/dataset_01__500_chars_simple_background/{row_idx:0{6}d}\"\n",
    "        save_image_and_label(img, lbl, filename_base)\n",
    "        executor.submit(save_image_and_label, img, lbl, filename_base)\n",
    "        \n",
    "    row_idx += 1\n",
    "    # counter += 1\n",
    "    # if counter == 1000:\n",
    "    #     break\n",
    "\n",
    "executor.shutdown()  # Ensure all saves finish\n"
   ]
  },
  {
   "cell_type": "code",
   "execution_count": 32,
   "id": "0100d4d1-e97e-4a71-a9cc-2171d5f6033b",
   "metadata": {},
   "outputs": [
    {
     "data": {
      "text/plain": [
       "False"
      ]
     },
     "execution_count": 32,
     "metadata": {},
     "output_type": "execute_result"
    }
   ],
   "source": [
    "counter == 1000"
   ]
  },
  {
   "cell_type": "code",
   "execution_count": 27,
   "id": "bb24db5b-9c1c-4a1e-826e-c0bd03da61b1",
   "metadata": {},
   "outputs": [
    {
     "name": "stdout",
     "output_type": "stream",
     "text": [
      "CPU-bound workload → 12 workers\n",
      "I/O-bound workload (50% waiting) → 24 workers\n",
      "I/O-bound workload (90% waiting) → 120 workers\n"
     ]
    }
   ],
   "source": [
    "import os\n",
    "\n",
    "def suggest_workers(task_type: str, io_wait_ratio: float = 0.5) -> int:\n",
    "    \"\"\"\n",
    "    Suggests number of workers for ThreadPoolExecutor or ProcessPoolExecutor.\n",
    "\n",
    "    Args:\n",
    "        task_type (str): \"cpu\" for CPU-bound tasks, \"io\" for I/O-bound tasks.\n",
    "        io_wait_ratio (float): Fraction of time tasks spend waiting on I/O \n",
    "                               (0.0 = always compute, 1.0 = always waiting).\n",
    "                               Used only for I/O-bound tasks.\n",
    "\n",
    "    Returns:\n",
    "        int: Suggested number of workers.\n",
    "    \"\"\"\n",
    "    cores = os.cpu_count() or 1\n",
    "\n",
    "    if task_type.lower() == \"cpu\":\n",
    "        # CPU-bound → limit to number of CPU cores\n",
    "        return cores\n",
    "\n",
    "    elif task_type.lower() == \"io\":\n",
    "        # I/O-bound → scale up depending on wait ratio\n",
    "        # Rule of thumb: cores / (1 - wait_ratio)\n",
    "        # Example: 8 cores, 50% waiting → 16 workers\n",
    "        # Example: 8 cores, 90% waiting → 80 workers\n",
    "        workers = int(cores / max(1e-2, (1 - io_wait_ratio)))\n",
    "        return max(workers, cores * 2)  # ensure at least 2× cores\n",
    "\n",
    "    else:\n",
    "        raise ValueError(\"task_type must be 'cpu' or 'io'\")\n",
    "\n",
    "# Example usage:\n",
    "if __name__ == \"__main__\":\n",
    "    print(\"CPU-bound workload →\", suggest_workers(\"cpu\"), \"workers\")\n",
    "    print(\"I/O-bound workload (50% waiting) →\", suggest_workers(\"io\", io_wait_ratio=0.5), \"workers\")\n",
    "    print(\"I/O-bound workload (90% waiting) →\", suggest_workers(\"io\", io_wait_ratio=0.9), \"workers\")\n"
   ]
  },
  {
   "cell_type": "code",
   "execution_count": null,
   "id": "2434da76-b60f-44ef-a362-0ff78801c949",
   "metadata": {},
   "outputs": [],
   "source": []
  },
  {
   "cell_type": "code",
   "execution_count": null,
   "id": "52f3c127-81ab-424c-aacf-8eddcca8e190",
   "metadata": {},
   "outputs": [],
   "source": []
  },
  {
   "cell_type": "code",
   "execution_count": 15,
   "id": "607823e9-b69a-4987-9e68-548dc90a1bbc",
   "metadata": {},
   "outputs": [
    {
     "name": "stdout",
     "output_type": "stream",
     "text": [
      "האנרגיה בטבע מתפרצת כלפי חוץ ולמעלה, הכול ירוק\n",
      "פורח ונובט. זה הזמן לנקות רעלים בגוף ובכבד לקראת\n",
      "עונת הקיץ החמה; לכן באביב אוכלים פחות, אוכלים מזון\n",
      "קל לעיכול, המבושל בישול מהיר וקל להכנה – מזון\n",
      "המספק לנו אנרגיה יאנגית.\n",
      "5. להימנע – מסוכרים לבנים, וממלח רב. מהפירות בננה,\n",
      "תפוזים ומלונים.\n",
      "ניתן להוסיף בבוקר דייסת קוואקר עם מעט דבש, במקום\n",
      "ארוחה של מש ואורז מאחר וקשה לאכול מש ואורז בבוקר.\n",
      "ביומיים הראשונים יש רעב וצורך למתוק, יותר עייפות,\n",
      "עצירות, לעיתים יותר שתן (חלק מהניקוי), טעם רע וריח\n",
      "בפה, לעיתים השיער והעור לא נעימים. אולם, לאחר\n",
      "יומיים מרגישים נהדר – יש אנרגיה, הגוף נקי, הבטן\n",
      "רגועה ולא נפוחה או כואבת והגוף קל. חוש הטעם מתחדד,\n",
      "הפה נקי, מפתחים הקשבה גדולה יותר לגוף ולמערכת\n",
      "העיכול. לאחר 5 ימים מתחילים לחזור לאכילה רגילה\n",
      "בהדרגה. מתחילים להוסיף מזון קל לתפריט המש והאורז,\n",
      "כמו ירקות חיים, ירקות מבושלים, אבוקדו, מרקים כמו\n",
      "מרק ירקות, מרק סיני שהוא מעין חליטה של הירקות במים\n",
      "חמים. לאט לאט מוסיפים גם ירקות כתומים, מרק בטטה,\n",
      "ולאחר מכן עוף/דג ולבסוף לחם וגבינות.\n",
      "ניקוי הכולל שמן זית ולימון. לפני השינה מחממים 2/3\n",
      "כוס שמן זית לטמפרטורת הגוף, מערבבים עם 1/3 כוס מיץ\n",
      "לימון טרי. שמן הזית מתעכל בקלות ולא מותיר משקעים\n",
      "בגוף. יש לשתות לאט וללכת לישון, תוך שכיבה על צד\n",
      "ימין. נקרב את רגל ימין לגוף (שהרי כיס מרה נמצא בצד\n",
      "ימין). בבוקר אמורה להיות יציאה רכה מאוד/ שלשול –\n",
      "אם היציאה הייתה נורמלית, עושים זאת שוב. הניקוי הזה\n",
      "מסייע במקרים מסוימים גם להוצאת אבנים מכיס מרה,\n",
      "בתנאי שאין חסימה מלאה של דרכי המרה.\n"
     ]
    }
   ],
   "source": []
  },
  {
   "cell_type": "code",
   "execution_count": null,
   "id": "2010e7d6-1f56-489e-a415-df9702e1a97d",
   "metadata": {},
   "outputs": [],
   "source": []
  }
 ],
 "metadata": {
  "kernelspec": {
   "display_name": "ocr_gen",
   "language": "python",
   "name": "ocr_gen"
  },
  "language_info": {
   "codemirror_mode": {
    "name": "ipython",
    "version": 3
   },
   "file_extension": ".py",
   "mimetype": "text/x-python",
   "name": "python",
   "nbconvert_exporter": "python",
   "pygments_lexer": "ipython3",
   "version": "3.11.13"
  }
 },
 "nbformat": 4,
 "nbformat_minor": 5
}
